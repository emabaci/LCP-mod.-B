{
 "cells": [
  {
   "cell_type": "markdown",
   "id": "cdf801bf",
   "metadata": {},
   "source": [
    "## Increasing dimesionality\n",
    "\n",
    "When increasing the dimension of the data, one can see that the tSNE-visualization starts to struggle, and it is not able to clearly separate the different data types in the plots. It shows that with increasing dimensionality, it is harder to see the connection between the separation of the data in the higher and lower dimensions. Rotating the data seems to actually make the tSNE perform better in the 4- and 5 dimensional case, while the performance for the higher dimensions stays about the same. Rotating the data with an orthonormal matrix preserves the distances between the points. As the tSNE preserves only small pairwise distances and local similarities in the higher dimensions, the rotation should not affect the performance of the vizualization too much, as long as the distances between points are preserved. Which is confirmed by the results."
   ]
  },
  {
   "cell_type": "markdown",
   "id": "908c2186",
   "metadata": {},
   "source": [
    "## Varying the perplexity\n",
    "\n",
    "The perplexity parameeter in the tSNE method influences the variance of the gaussian distribution that is used on each point to find the densities of the surrounding points, and hence also a measure for the local similarities in the structure of the high dimensional space. Increasing the perplexity is therefore essentually to increase the amount of nearest neighbours, as one increses the gaussian searching circle. \n",
    "\n",
    "For very small perplexities one finds only randomness, while patterns starts to arise when it is increased. That means the method is able to find local similarities in the data. However, by making the perplexity very high, the patterns become infiltrated and merge together, as one start to look for similarities further and further away, and many data points are considered at once. Hence, one usually seek an intermediate optimal value, which usually depends on the datatype. Usually the range between perplexity is from 5 to 50. \n",
    "\n",
    "In our example one can see that patterns arise with perplexity equal to 5, and that it is fully separable at a perplexity of 20. However, with perplexity equal to 40 the patterns start to merge, and with a value of 100 the patterns is no longer separable.\n",
    "\n",
    "When initializing the tSNE principal component analysis, we can see that the results become very different. In opposition to tSNE, principal analysis seek to preserve large pairwise distances to maximize the variance of the data. By this method, things that are different will end up far apart. As it is a linear reduction technique, it often doesn't work well with non-linear manifold structures, and does not preserve the structure of the data well. This is visible in the plots with pca as the different data types are not separable. It also explains why the shape of the pattern does not change much with increasing perplexity, as the number of nearest neighbours become irrelevant when the method only seeks to preserve large distances. One can see that the pattern actually resembles that achieved by the tSNE method if the perplexity is turned up to a value of 100, which is 2 times the normal maximal value used for the method. It shows that that the local similarities are important for the structure of the data.\n",
    "\n",
    "(The 3D-plots shows change in perplexity in 3D also for principal analysis, which is a bit weird. They seem to be the same plots as for the case with random initialization, which could be an error somewhere. Can't find one though!)"
   ]
  },
  {
   "cell_type": "markdown",
   "id": "758480a1",
   "metadata": {},
   "source": [
    "## Varying the \"eps\" and \"minPts\" parameters in DBSCAN\n",
    "\n",
    "The epsilon parameter determines how far from a core point one should look for neighbouring points, while the minPts parameter descides what number of points is the minimum amount required to define a cluster. Hence, a point p is a core point if it has at least minPts within distance eps of it. \n",
    "\n",
    "Usually, as a rule of thumb, minPts is often set to 2 times the dimensionality of the data. Having a minPts parameter set to one makes no sence as every data point would be considered as a cluset on its own. In general minPts equal to three to achieve clustering with a different result than in hierarchical clustering. Often larger values are better for data that contains a lot of noise.\n",
    "\n",
    "For the size of epsilon, one can create what is called a k-distance plot. For a given choice k of minPts, one plots the average distance between each point in the data set and its k nearest neighbours, sorted by acending value. The optimal value for epsilon will be the distnace where the plot has an elbow. This represents an optimization point where diminishing returns are no longer worth the additional cost. More clusters may increase the risk of overfitting. Below there have been created a k-distance plot for each of the dimensions tested with the value of nearest neighbours set to 20. One can see that the optimal value for epsilon increases with the added dimensions of noisy data. In the 3d-case the optimal value for epsilon in this case is about 40, while it in the 7d-case should be around 90. The heatmaps with epsilon and minPts plotted agains each other does however show best accuracies on different values for epsilon for the same value of eps, which is a bit unexpected. The results for the tuning of the paramteres are about the same for the unrotated and rotated data."
   ]
  },
  {
   "cell_type": "code",
   "execution_count": null,
   "id": "b92e31e4",
   "metadata": {},
   "outputs": [],
   "source": []
  }
 ],
 "metadata": {
  "kernelspec": {
   "display_name": "Python 3 (ipykernel)",
   "language": "python",
   "name": "python3"
  },
  "language_info": {
   "codemirror_mode": {
    "name": "ipython",
    "version": 3
   },
   "file_extension": ".py",
   "mimetype": "text/x-python",
   "name": "python",
   "nbconvert_exporter": "python",
   "pygments_lexer": "ipython3",
   "version": "3.8.12"
  }
 },
 "nbformat": 4,
 "nbformat_minor": 5
}
