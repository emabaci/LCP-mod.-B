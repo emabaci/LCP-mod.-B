{
 "cells": [
  {
   "cell_type": "markdown",
   "id": "34088b8d",
   "metadata": {},
   "source": [
    "## Statistical procedure for the data of the higgs boson"
   ]
  },
  {
   "cell_type": "markdown",
   "id": "826d7836",
   "metadata": {},
   "source": [
    "The following procedure is gathered from the CMS - NOTE 2011-005, and is the statistical approach used to do an hypothesis test to determine wether the results for the Higgs boson mass produced by the data is only created by background or an actual signal in combination with background.\n",
    "\n",
    "We make the signal and the background functions of the nuiance parameter $\\theta$, and denote them $s\\left(\\theta\\right)$ and $b\\left(\\theta\\right)$ respectfully.\n",
    "\n",
    "1. Construct the likelyhood function\n",
    "$$\\mathcal{L}\\left(\\mbox{data}|\\mu,\\theta\\right) = \\mbox{Poisson}\\left(\\mbox{data}|\\mu \\cdot s\\left(\\theta\\right) + b\\left(\\theta\\right)\\right)\\cdot p\\left(\\tilde{\\theta}|\\theta\\right)$$\n",
    "\n",
    "* Data represents either actual experimental observation or pseudo-data used to construct sampling distributions\n",
    "\n",
    "* $\\mu$ is the signal strength modifier and $\\theta$ represents the full suite of nuiance parameters\n",
    "\n",
    "* Poissons(data|$\\mu s + b$) stands for a product of Poisson probabilities to observe $n_i$ events in bins $i$:\n",
    "$$\\prod_{i} \\frac{\\left(\\mu s_i + b_i\\right)^{n_i}}{n_i !} e^{-\\mu s_i - b_i}$$\n",
    "\n",
    "2. To compare the compability of the data with the background -only and signal + background hypothesis, the test statistic $$\\tilde{q_{\\mu}} =  - 2ln \\frac{\\mathcal{L}\\left(\\mbox{data}|\\mu,\\hat{\\theta_{\\mu}}\\right)}{\\mathcal{L}\\left(\\mbox{data}|\\hat{\\mu},\\hat{\\theta_{\\mu}}\\right)},$$ with $0 \\leq \\hat{\\mu} \\leq \\mu$. Where $\\hat{\\theta_{\\mu}}$ refers to the conditional maximum likelyhood estimate of $\\theta$, given the signal strength paramter $\\mu$ and data. $\\hat{\\mu}$ and $\\hat{\\theta}$ correspond to the global maximum of the likelihood.\n",
    "\n",
    "3. Find the observed value of the test statisitc $\\tilde{q_{\\mu}^{obs}}$ for the given signal strength modifier $\\mu$ under test.\n",
    "\n",
    "4. Find values of the nuisance paramters $\\hat{\\theta_{o}^{obs}}$ and $\\hat{\\theta}_{\\mu}^{\\mbox{obs}}$ best describing the experimentally observed data, for the background only and signal + background hypothesis, respectively. \n",
    "\n",
    "5. Use (a bit unsure because, in the CMS document it says generate toy monte carlo pseudo-data, but I assume that part is done, so I assume we are just supposed to use the generated one) the generated pseudo-data to construct $pdf$s $f\\left(\\tilde{q_{\\mu}}|\\mu, \\hat{\\theta}_{\\mu}^{obs}\\right)$ and $f\\left(\\tilde{q_{\\mu}}|0, \\hat{\\theta}_{0}^{obs}\\right)$ assuming a signal with strength $\\mu$ in the signal + background hypothesis and for the background only hypothesis ($\\mu = 0$).\n",
    "\n",
    "6. Having constructed $f\\left(\\tilde{q_{\\mu}}|\\mu, \\hat{\\theta}_{\\mu}^{obs}\\right)$ and $f\\left(\\tilde{q_{\\mu}}|0, \\hat{\\theta}_{0}^{obs}\\right)$ distributions, define two p-values to be associated with the actual observation for the signal + background and background-only hypothesis, $p_{\\mu}$ and $p_b$:\n",
    "$$p_{\\mu} = P\\left(\\tilde{q_{\\mu}} \\geq \\tilde{q}_{\\mu}^{obs}|\\mbox{signal + background}\\right) = \\int_{\\tilde{q}_{\\mu}^{obs}}^{infty} f\\left(\\tilde{q}_{\\mu}|\\mu, \\hat{\\theta}_{\\mu}^{obs}\\right) d\\tilde{q_{\\mu}} $$\n",
    "\n",
    "$$1- p_{b} = P\\left(\\tilde{q_{\\mu}} \\geq \\tilde{q}_{\\mu}^{obs}|\\mbox{background only}\\right) = \\int_{\\tilde{q}_{+0}^{obs}}^{infty} f\\left(\\tilde{q}_{\\mu}|0, \\hat{\\theta}_{0}^{obs}\\right) d\\tilde{q_{\\mu}}$$\n",
    "\n",
    "and calculate $CL_{s}\\left(\\mu\\right) = \\frac{p_{\\mu}}{1-p_{b}}$.\n",
    "\n",
    "7. If, for $\\mu = 1$, $CL_s \\leq \\alpha$, we would state that the SM Higgs boson is excluded with (1 - $\\alpha$) confidence level.\n",
    "\n",
    "8. To quote the 95$\\%$ Confidence Level upper limit on $\\mu$, to be further denoted as $\\mu^{95\\%CL}$ we adjust $\\mu$ until we reach $CL_s = 0.05$.\n",
    "\n",
    "\n",
    "Further the procedure states that the test statistic used for the higgs boson is $q_{\\mu}$ with $\\hat{\\mu} \\geq 0$. (see expression for $q_{\\mu}$ above.)"
   ]
  },
  {
   "cell_type": "code",
   "execution_count": 173,
   "id": "cd116f6c",
   "metadata": {},
   "outputs": [],
   "source": [
    "# Useful packages\n",
    "import pandas as pd\n",
    "import scipy.stats as ss\n",
    "import numpy as np\n",
    "import math\n",
    "import matplotlib.pyplot as plt\n",
    "import scipy as sp\n",
    "import pyhf\n",
    "from matplotlib.pyplot import figure\n",
    "from tqdm import tqdm\n",
    "import scipy.integrate as integrate\n",
    "import scipy.special as special"
   ]
  },
  {
   "cell_type": "code",
   "execution_count": 75,
   "id": "610ef463",
   "metadata": {},
   "outputs": [],
   "source": [
    "# In this document we have neglected the error-parameter theta\n",
    "# Veslemøy and Ema"
   ]
  },
  {
   "cell_type": "markdown",
   "id": "29442006",
   "metadata": {},
   "source": [
    "### Uploading data"
   ]
  },
  {
   "cell_type": "code",
   "execution_count": 256,
   "id": "909d5f4c",
   "metadata": {},
   "outputs": [],
   "source": [
    "# Uploading counts from data\n",
    "# considering only m>100 GeV\n",
    "sim_signal_counts = np.load(r'signal_counts.npy')#[5:,]\n",
    "sim_background_counts = np.load(r'background_counts.npy')#[5:,]\n",
    "true_counts = np.load(r'true_counts.npy')#[5:,]\n",
    "#bins_data = np.load(r'C:\\Users\\vesle\\Desktop\\data\\bins.npy')\n",
    "# \\Users\\vesle\\Desktop\\Even_longer\\"
   ]
  },
  {
   "cell_type": "code",
   "execution_count": 257,
   "id": "c89f0904",
   "metadata": {},
   "outputs": [
    {
     "data": {
      "text/plain": [
       "<BarContainer object of 79 artists>"
      ]
     },
     "execution_count": 257,
     "metadata": {},
     "output_type": "execute_result"
    },
    {
     "data": {
      "image/png": "[encoded data removed]",
      "text/plain": [
       "<Figure size 432x288 with 1 Axes>"
      ]
     },
     "metadata": {
      "needs_background": "light"
     },
     "output_type": "display_data"
    }
   ],
   "source": [
    "plt.bar(np.arange(79),true_counts)"
   ]
  },
  {
   "cell_type": "code",
   "execution_count": 258,
   "id": "2fc9faa6",
   "metadata": {},
   "outputs": [
    {
     "name": "stdout",
     "output_type": "stream",
     "text": [
      "Number of bins:\n",
      "79\n",
      "79\n",
      "79\n"
     ]
    }
   ],
   "source": [
    "# checking that they all have the same length\n",
    "print('Number of bins:')\n",
    "print(len(sim_signal_counts))\n",
    "print(len(sim_background_counts))\n",
    "print(len(true_counts))"
   ]
  },
  {
   "cell_type": "markdown",
   "id": "0d03350b",
   "metadata": {},
   "source": [
    "### Defining necessary functions"
   ]
  },
  {
   "cell_type": "code",
   "execution_count": 259,
   "id": "c886af5c",
   "metadata": {},
   "outputs": [],
   "source": [
    "# We can assume the data we are getting in is an array of discrete counts;\n",
    "# The likelihood function for each bin is given by the poisson distribution\n",
    "# pmf(k, mu, loc=0)\n",
    "\n",
    "# log of likelihood function to avoid underflow\n",
    "\n",
    "def log_likelihood(mu,s,b,n):\n",
    "    \"\"\" \n",
    "    s = number of expected signal events in bin i \n",
    "    b = number of expected background events in bin i \n",
    "    n = number of real events in bin i \"\"\"\n",
    "    nu = mu*s +b\n",
    "    return sum(np.log(ss.poisson.pmf(n,nu)))\n",
    "\n",
    "# we construct the test statistic q ̃_mu based on the profile likelihood ratio:\n",
    "def q_tilde_mu(mu_1, mu_2, s, b, t, func=log_likelihood):\n",
    "    log_val = func(mu_1,s,b,t) - func(mu_2,s,b,t)\n",
    "    return -2*log_val \n"
   ]
  },
  {
   "cell_type": "markdown",
   "id": "309524c6",
   "metadata": {},
   "source": [
    "### Finding the q-values of our original data"
   ]
  },
  {
   "cell_type": "code",
   "execution_count": 260,
   "id": "be8891d2",
   "metadata": {},
   "outputs": [
    {
     "name": "stdout",
     "output_type": "stream",
     "text": [
      "The best fit value of mu for our original data is:  0.957114260308142\n"
     ]
    },
    {
     "data": {
      "text/plain": [
       "[<matplotlib.lines.Line2D at 0x13bf42220>]"
      ]
     },
     "execution_count": 260,
     "metadata": {},
     "output_type": "execute_result"
    },
    {
     "data": {
      "image/png": "[encoded data removed]",
      "text/plain": [
       "<Figure size 432x288 with 1 Axes>"
      ]
     },
     "metadata": {
      "needs_background": "light"
     },
     "output_type": "display_data"
    }
   ],
   "source": [
    "# Finding mu that maximize the likelihood function in [0,1]\n",
    "# Want to optimize mu with regards to the likelihood function\n",
    "# Can use scipy.optimize.minimize to find the minimum\n",
    "\n",
    "fun = lambda mu: -log_likelihood(mu,sim_signal_counts,sim_background_counts,true_counts)\n",
    "mu_opt = sp.optimize.minimize(fun,0.5,bounds=((0,1),))\n",
    "mu_max = mu_opt[\"x\"][0]\n",
    "print(\"The best fit value of mu for our original data is: \",mu_max)\n",
    "\n",
    "mu = np.linspace(0, 1, 3001)\n",
    "likelihood_val = []\n",
    "for i in mu:\n",
    "    x = log_likelihood(i, sim_signal_counts, \n",
    "                          sim_background_counts, \n",
    "                          true_counts)\n",
    "    likelihood_val.append(np.exp(x))\n",
    "\n",
    "plt.plot(mu, likelihood_val)\n",
    "\n",
    "#mu_max = mu[likelihood_val.index(max(likelihood_val))]\n",
    "#print('Maximum likelihood estimator for mu:', mu_max)\n"
   ]
  },
  {
   "cell_type": "code",
   "execution_count": 261,
   "id": "472729a5",
   "metadata": {},
   "outputs": [
    {
     "name": "stdout",
     "output_type": "stream",
     "text": [
      "q_obs_0:  188.46005869273665\n"
     ]
    }
   ],
   "source": [
    "# Finding q0_obs as ratio of Likelihood-functions with mu = 0 and mu = best fit \n",
    "q_obs_0 = q_tilde_mu(0,mu_max,sim_signal_counts,sim_background_counts,true_counts)\n",
    "print(\"q_obs_0: \",q_obs_0)"
   ]
  },
  {
   "cell_type": "code",
   "execution_count": 262,
   "id": "a00a7a92",
   "metadata": {},
   "outputs": [
    {
     "name": "stdout",
     "output_type": "stream",
     "text": [
      "q_obs_1:  0.1257805815276356\n"
     ]
    }
   ],
   "source": [
    "# Ratio of Likelyhood-functions with mu = 1 and mu = best fit \n",
    "q_obs_1 = q_tilde_mu(1,mu_max,sim_signal_counts,sim_background_counts,true_counts)\n",
    "print(\"q_obs_1: \",q_obs_1)"
   ]
  },
  {
   "cell_type": "code",
   "execution_count": 240,
   "id": "4dbc0157",
   "metadata": {},
   "outputs": [],
   "source": [
    "# q_obs_0 big    --> the likelihood computed on the background-only hypothesis\n",
    "#                    smaller than the maximum (maybe too much distant?)\n",
    "# q_obs_1 small  --> near the maximum of the likelihood (maybe too small??)\n",
    "#"
   ]
  },
  {
   "cell_type": "markdown",
   "id": "654ce539",
   "metadata": {},
   "source": [
    "### Costructing the pdf of $ \\tilde{q}_{\\mu} $ generating toy Monte Carlo pseudo-data"
   ]
  },
  {
   "cell_type": "code",
   "execution_count": 263,
   "id": "52006cd1",
   "metadata": {},
   "outputs": [],
   "source": [
    "# Generate toy Monte Carlo pseudo-data to construct pdfs f(q^~_μ |μ) and f (q^ ̃_μ |0 )\n",
    "# assuming a signal with strength μ in the signal+background hypothesis and for the\n",
    "# background-only hypothesis (μ = 0). \n",
    "\n",
    "def create_toy(mu,s,b):\n",
    "    \"\"\"\n",
    "    return a random Poisson distributed value\n",
    "    with mu*s + b as its expected value\n",
    "    \"\"\"\n",
    "    return ss.poisson.rvs((mu*s+b),size=1)\n",
    "\n",
    "\n",
    "def create_toy_distr(mu,s,b,func = create_toy):\n",
    "    \"\"\"\n",
    "    generate for each bin a random Poisson \n",
    "    distributed values in according to the \n",
    "    counts for simulated signal and background \n",
    "    \"\"\"\n",
    "    toys_list = np.zeros(len(s))\n",
    "    for i in range(len(s)):\n",
    "        toys_list[i] = func(mu,s[i],b[i])\n",
    "        \n",
    "    return toys_list"
   ]
  },
  {
   "cell_type": "code",
   "execution_count": 294,
   "id": "6930b111",
   "metadata": {},
   "outputs": [
    {
     "name": "stderr",
     "output_type": "stream",
     "text": [
      "100%|██████████████████████████████████████████████████| 10000/10000 [01:25<00:00, 117.09it/s]\n"
     ]
    }
   ],
   "source": [
    "# creating a dataframe with toy distributions mimiking our true counts\n",
    "\n",
    "# For mu = 0\n",
    "toy_data_mu_0 = pd.DataFrame([])\n",
    "\n",
    "for i in tqdm(range(10000)):\n",
    "    toys           = pd.DataFrame(create_toy_distr(0,sim_signal_counts, sim_background_counts)).T\n",
    "    toy_data_mu_0  = pd.concat([toy_data_mu_0,toys],ignore_index=True,axis = 0)\n",
    "    "
   ]
  },
  {
   "cell_type": "code",
   "execution_count": 265,
   "id": "86b42188",
   "metadata": {},
   "outputs": [],
   "source": [
    "#toy_data_mu_1"
   ]
  },
  {
   "cell_type": "code",
   "execution_count": 266,
   "id": "a7a74ce8",
   "metadata": {},
   "outputs": [
    {
     "name": "stderr",
     "output_type": "stream",
     "text": [
      "100%|██████████████████████████████████████████████████| 10000/10000 [01:39<00:00, 100.14it/s]\n"
     ]
    }
   ],
   "source": [
    "#for mu = 1\n",
    "toy_data_mu_1 = pd.DataFrame([])\n",
    "\n",
    "for i in tqdm(range(10000)):\n",
    "    toys = pd.DataFrame(create_toy_distr(1,sim_signal_counts, sim_background_counts)).T\n",
    "    toy_data_mu_1 = pd.concat([toy_data_mu_1,toys],ignore_index=True,axis = 0)"
   ]
  },
  {
   "cell_type": "code",
   "execution_count": 267,
   "id": "98a461f3",
   "metadata": {},
   "outputs": [],
   "source": [
    "#toy_data_mu_1"
   ]
  },
  {
   "cell_type": "markdown",
   "id": "7dcbd1da",
   "metadata": {},
   "source": [
    "#### Collect all the optimal $\\mu$ for each generated toy data set"
   ]
  },
  {
   "cell_type": "code",
   "execution_count": 295,
   "id": "0a6d152e",
   "metadata": {},
   "outputs": [
    {
     "name": "stderr",
     "output_type": "stream",
     "text": [
      "100%|██████████████████████████████████████████████████| 10000/10000 [01:14<00:00, 133.57it/s]\n"
     ]
    }
   ],
   "source": [
    "# Need to make a loop where we loop over all the different toy-datasets\n",
    "# and calculate the optimal mu for each of them\n",
    "\n",
    "n_toys = len(toy_data_mu_0.iloc[:,0])\n",
    "\n",
    "# With mu equal to 0\n",
    "mu_s_0 = np.zeros(n_toys)\n",
    "\n",
    "# With mu equal to 1\n",
    "mu_s_1 = np.zeros(n_toys)\n",
    "\n",
    "for i in tqdm(range(n_toys)):\n",
    "    \n",
    "    fun0      = lambda mu: -log_likelihood(mu,\n",
    "                                           sim_signal_counts,\n",
    "                                           sim_background_counts,\n",
    "                                           toy_data_mu_0.iloc[i,:])\n",
    "    \n",
    "    fun1      = lambda mu: -log_likelihood(mu,\n",
    "                                           sim_signal_counts,\n",
    "                                           sim_background_counts,\n",
    "                                           toy_data_mu_1.iloc[i,:])\n",
    "    \n",
    "    mu_opt_i_0  = sp.optimize.minimize(fun0,0.5,bounds=((0,1),))[\"x\"]\n",
    "    mu_opt_i_1  = sp.optimize.minimize(fun1,0.5,bounds=((0,1),))[\"x\"]\n",
    "    mu_s_0[i]   = mu_opt_i_0\n",
    "    mu_s_1[i]   = mu_opt_i_1"
   ]
  },
  {
   "cell_type": "code",
   "execution_count": 296,
   "id": "5ae60f3e",
   "metadata": {},
   "outputs": [],
   "source": [
    "#Creating q's with mu=1 and | mu=0\n",
    "\n",
    "num    = len(toy_data_mu_0.iloc[:,0])\n",
    "q_0_1s = np.zeros(num)\n",
    "\n",
    "for i in range(num):\n",
    "    q_0_1s[i] = q_tilde_mu(1, mu_s_0[i],\n",
    "                       sim_signal_counts,\n",
    "                       sim_background_counts,\n",
    "                       toy_data_mu_0.iloc[i,:])"
   ]
  },
  {
   "cell_type": "code",
   "execution_count": 297,
   "id": "69134af3",
   "metadata": {},
   "outputs": [],
   "source": [
    "# Creating q's with mu=1 and | mu=1\n",
    "\n",
    "num    = len(toy_data_mu_1.iloc[:,0])\n",
    "q_1_1s = np.zeros(num)\n",
    "\n",
    "for i in range(num):\n",
    "    q_1_1s[i] = q_tilde_mu(1, mu_s_1[i],\n",
    "                       sim_signal_counts,\n",
    "                       sim_background_counts,\n",
    "                       toy_data_mu_1.iloc[i,:])"
   ]
  },
  {
   "cell_type": "markdown",
   "id": "7f715812",
   "metadata": {},
   "source": [
    "### Histogram representation of toy disitrbutions for q"
   ]
  },
  {
   "cell_type": "code",
   "execution_count": 300,
   "id": "b8e05263",
   "metadata": {},
   "outputs": [
    {
     "data": {
      "text/plain": [
       "<matplotlib.legend.Legend at 0x13c630040>"
      ]
     },
     "execution_count": 300,
     "metadata": {},
     "output_type": "execute_result"
    },
    {
     "data": {
      "image/png": "[encoded data removed]",
      "text/plain": [
       "<Figure size 1120x480 with 1 Axes>"
      ]
     },
     "metadata": {
      "needs_background": "light"
     },
     "output_type": "display_data"
    }
   ],
   "source": [
    "figure(figsize=(14, 6), dpi=80)\n",
    "histogram_0 = plt.hist(q_0_1s, \n",
    "                       bins = np.arange(min(q_0_1s),max(q_0_1s) + 0.5,0.2),\n",
    "                       histtype = 'step',\n",
    "                       facecolor='c', \n",
    "                       density=True,\n",
    "                       label=r\"$f(\\tilde{q}_{\\mu = 1}|\\mu = 0)$ background-like\",\n",
    "                       linewidth=2)\n",
    "\n",
    "\n",
    "histogram_1 = plt.hist(q_1_1s, \n",
    "                       bins = np.arange(min(q_1_1s),max(q_1_1s) + 0.5,0.2),\n",
    "                       histtype = 'step',facecolor='c',\n",
    "                       label =r\"$f(\\tilde{q}_{\\mu = 1}|\\mu = 1)$ signal-like\",\n",
    "                       density = 'true')\n",
    "                       \n",
    "plt.axvline(q_obs_0, color='red', linestyle='dotted', linewidth=3, label = \"q_obs_0\")\n",
    "plt.axvline(q_obs_1, color='green', linestyle='dotted', linewidth=3, label = \"q_obs_1\")\n",
    "plt.yscale('log')\n",
    "\n",
    "plt.xlabel(r\"Test statistics $\\tilde{q}_1$\", fontsize=18)\n",
    "plt.ylabel(r\"$f\\,(\\tilde{q}_1|\\mu)$\", fontsize=18)\n",
    "plt.title(r\"Test statistic $(\\tilde{q}_1)$ distributions\")\n",
    "plt.legend()\n",
    "\n",
    "\n",
    "\n"
   ]
  },
  {
   "cell_type": "markdown",
   "id": "2a686cf0",
   "metadata": {},
   "source": [
    "### p-values\n",
    "* H0: Background only hypothesis\n",
    "* H1: Signal + Background hypothesis\n",
    "\n",
    "We define two p-values to be associated with the actual observation for the signal+background and background-only hypotheses, $p_{\\mu}$ and $p_b$:"
   ]
  },
  {
   "cell_type": "code",
   "execution_count": 319,
   "id": "04bf8b1f",
   "metadata": {},
   "outputs": [
    {
     "data": {
      "text/plain": [
       "0.3268000000000048"
      ]
     },
     "execution_count": 319,
     "metadata": {},
     "output_type": "execute_result"
    }
   ],
   "source": [
    "# retrieve counts and bins from the Histogram above\n",
    "counts0, bins0, bars0 = histogram_0\n",
    "counts1, bins1, bars1 = histogram_1\n",
    "bin_width = bins0[1] - bins0[0]\n",
    "\n",
    "# H1 --> remot\n",
    "counts1_q = counts1[bins1[:-1]>q_obs_1]\n",
    "p_val_mu = sum( counts1_q)*bin_width\n",
    "p_val_mu\n",
    "\n",
    "# H0\n",
    "counts0_q     = counts0[bins0[:-1]>q_obs_1]\n",
    "denominator   = sum( bin_width*counts0_q)\n",
    "\n",
    "CL = p_val_mu/denominator\n",
    "CL\n"
   ]
  },
  {
   "cell_type": "markdown",
   "id": "b31ea14c",
   "metadata": {},
   "source": [
    "With a significance treshold $\\alpha =$ 0.05, we have that our $CL_s$ > $\\alpha$ so we can't reject the H1 hypothesis."
   ]
  },
  {
   "cell_type": "markdown",
   "id": "fc16bf2f",
   "metadata": {},
   "source": [
    "The presence of the signal is quantified by the background-only p-value, i.e. the probability for the background to fluctuate and give an excess of events as large or larger than the observed one. As before, this requires defining a test statistic and the construction of its sampling distribution. For a given Higgs boson mass hypothesis mH, the test statistic used is q0\n"
   ]
  },
  {
   "cell_type": "code",
   "execution_count": 273,
   "id": "7cdc02d2",
   "metadata": {},
   "outputs": [
    {
     "name": "stderr",
     "output_type": "stream",
     "text": [
      "100%|████████████████████████████████████████████████| 100000/100000 [15:16<00:00, 109.06it/s]\n"
     ]
    }
   ],
   "source": [
    "mu_s_0 = np.zeros(100000)\n",
    "q_0_1s = np.zeros(100000)\n",
    "\n",
    "\n",
    "for i in tqdm(range(100000)):\n",
    "    toy_count0 = create_toy_distr(0,sim_signal_counts, sim_background_counts)\n",
    "    \n",
    "    fun0      = lambda mu: -log_likelihood(mu,\n",
    "                                           sim_signal_counts,\n",
    "                                           sim_background_counts,\n",
    "                                           toy_count0)\n",
    "\n",
    "    \n",
    "    mu_opt_i_0  = sp.optimize.minimize(fun0,0.5,bounds=((0,1),))[\"x\"]\n",
    "    mu_s_0[i]   = mu_opt_i_0\n",
    "    q_0_1s[i]   = q_tilde_mu(0, mu_s_0[i],\n",
    "                       sim_signal_counts,\n",
    "                       sim_background_counts,\n",
    "                       toy_count0)\n"
   ]
  },
  {
   "cell_type": "code",
   "execution_count": 274,
   "id": "58743185",
   "metadata": {},
   "outputs": [
    {
     "data": {
      "text/plain": [
       "<matplotlib.legend.Legend at 0x13c158880>"
      ]
     },
     "execution_count": 274,
     "metadata": {},
     "output_type": "execute_result"
    },
    {
     "data": {
      "image/png": "[encoded data removed]",
      "text/plain": [
       "<Figure size 1120x640 with 1 Axes>"
      ]
     },
     "metadata": {
      "needs_background": "light"
     },
     "output_type": "display_data"
    }
   ],
   "source": [
    "figure(figsize=(14, 8), dpi=80)\n",
    "histogram_0 = plt.hist(q_0_1s, \n",
    "                       bins = np.arange(min(q_0_1s),max(q_0_1s) + 0.5,0.05),\n",
    "                       histtype = 'step',\n",
    "                       facecolor='c', \n",
    "                       #density=True,\n",
    "                       label=r\"$f(\\tilde{q}_0|0)$ background-like\",\n",
    "                       linewidth=2)\n",
    "\n",
    "#plt.axvline(q_obs_0, color='black', linestyle='dotted', linewidth=3, label = \"q_obs_0\")\n",
    "plt.yscale('log')\n",
    "\n",
    "plt.legend()"
   ]
  },
  {
   "cell_type": "code",
   "execution_count": 275,
   "id": "f8981fe7",
   "metadata": {},
   "outputs": [
    {
     "data": {
      "text/plain": [
       "0.0"
      ]
     },
     "execution_count": 275,
     "metadata": {},
     "output_type": "execute_result"
    }
   ],
   "source": [
    "p_estimate = 0.5*(1 - special.erf(q_obs_0/2))\n",
    "p_estimate"
   ]
  },
  {
   "cell_type": "code",
   "execution_count": null,
   "id": "e3582d94",
   "metadata": {},
   "outputs": [],
   "source": []
  },
  {
   "cell_type": "code",
   "execution_count": null,
   "id": "8854501a",
   "metadata": {},
   "outputs": [],
   "source": []
  },
  {
   "cell_type": "code",
   "execution_count": null,
   "id": "d6625c4a",
   "metadata": {},
   "outputs": [],
   "source": []
  },
  {
   "cell_type": "code",
   "execution_count": 276,
   "id": "8228fb06",
   "metadata": {},
   "outputs": [],
   "source": [
    "# We have put in the line for q_obs_1, which is the q-funciton evaluated with mu_1 = 1 and mu_2 = best fit \n",
    "# We get that this is very low, much lower than in the cms-document. The value for q with the ratio of no signal vs. best fit\n",
    "# is very high however, so we are not sure if that is correct. Also, our toy distributions for mu = 1 and mu = 0 do\n",
    "# not overlap at all. Usually this would be the ideal case, but we were thinking we may have done something wrong as\n",
    "# as we assumed they would be a bit more overlapping as in the CMS-case."
   ]
  },
  {
   "cell_type": "code",
   "execution_count": 277,
   "id": "035621e7",
   "metadata": {},
   "outputs": [
    {
     "name": "stdout",
     "output_type": "stream",
     "text": [
      "Channels: ['singlechannel']\n",
      "Samples: ['background', 'signal']\n",
      "Parameters: ['mu', 'uncorr_bkguncrt']\n",
      "q_obs_0:  188.46005861576134\n",
      "q_obs_1:  0.12578050455260836\n"
     ]
    }
   ],
   "source": [
    "# trying with pyhf\n",
    "pyhf.set_backend(\"numpy\")\n",
    "model = pyhf.simplemodels.uncorrelated_background(\n",
    "    signal=[x for x in sim_signal_counts], \n",
    "    bkg=[x for x in sim_background_counts], \n",
    "    bkg_uncertainty=[x*0 for x in sim_background_counts] \n",
    ")\n",
    "\n",
    "data = pyhf.tensorlib.astensor( [x for x in true_counts] + model.config.auxdata)\n",
    "\n",
    "print(f\"Channels: {model.config.channels}\")\n",
    "print(f\"Samples: {model.config.samples}\")\n",
    "print(f\"Parameters: {model.config.parameters}\")\n",
    "\n",
    "test_mu_b   = 0.0\n",
    "test_mu_s   = 1.0\n",
    "init_pars = model.config.suggested_init()\n",
    "\n",
    "par_bounds   = model.config.suggested_bounds()\n",
    "fixed_params = model.config.suggested_fixed()\n",
    "#par_bounds[model.config.poi_index] = (0, 1)\n",
    "q0_obs = pyhf.infer.test_statistics.q0(test_mu_b, data, model, init_pars, par_bounds, fixed_params)\n",
    "q1_obs = pyhf.infer.test_statistics.qmu_tilde(test_mu_s, data, model, init_pars, par_bounds, fixed_params)\n",
    "print(\"q_obs_0: \", q0_obs)\n",
    "print(\"q_obs_1: \", q1_obs)"
   ]
  },
  {
   "cell_type": "code",
   "execution_count": 278,
   "id": "c0bcc558",
   "metadata": {},
   "outputs": [
    {
     "name": "stdout",
     "output_type": "stream",
     "text": [
      "Background parameters: [('mu', 0.0)]\n",
      "Signal parameters: [('mu', 1.0)]\n"
     ]
    },
    {
     "data": {
      "text/plain": [
       "array([0.])"
      ]
     },
     "execution_count": 278,
     "metadata": {},
     "output_type": "execute_result"
    }
   ],
   "source": [
    "# mu' = 0: background-like\n",
    "pars_bkg = model.config.suggested_init()\n",
    "pars_bkg[model.config.poi_index] = 0.0\n",
    "print(f\"Background parameters: {list(zip(model.config.parameters, pars_bkg))}\")\n",
    "\n",
    "# mu' = 1: signal-like\n",
    "pars_sig = model.config.suggested_init()\n",
    "pars_sig[model.config.poi_index] = 1.0\n",
    "print(f\"Signal parameters: {list(zip(model.config.parameters, pars_sig))}\")\n",
    "\n",
    "# make the pdfs\n",
    "pdf_bkg = model.make_pdf(pyhf.tensorlib.astensor(pars_bkg))\n",
    "pdf_sig = model.make_pdf(pyhf.tensorlib.astensor(pars_sig))\n",
    "pyhf.tensorlib.astensor(pars_bkg)"
   ]
  },
  {
   "cell_type": "code",
   "execution_count": 279,
   "id": "dfa2bc6c",
   "metadata": {},
   "outputs": [
    {
     "name": "stdout",
     "output_type": "stream",
     "text": [
      "(10000, 79)\n",
      "(10000, 79)\n"
     ]
    }
   ],
   "source": [
    "# note: pdf.sample takes in a \"shape\" N=(10000,) given the number of samples\n",
    "n_samples = 10000\n",
    "\n",
    "# mu' = 0\n",
    "mc_bkg = pdf_bkg.sample((n_samples,))\n",
    "# mu' = 1\n",
    "mc_sig = pdf_sig.sample((n_samples,))\n",
    "\n",
    "print(mc_bkg.shape)\n",
    "print(mc_sig.shape)\n"
   ]
  },
  {
   "cell_type": "code",
   "execution_count": 280,
   "id": "fb216154",
   "metadata": {},
   "outputs": [
    {
     "data": {
      "text/plain": [
       "array([[ 2.,  1.,  1., ..., 17., 11., 13.],\n",
       "       [ 2.,  0.,  3., ..., 11., 16., 16.],\n",
       "       [ 5.,  0.,  5., ..., 12., 12., 13.],\n",
       "       ...,\n",
       "       [ 0.,  0.,  6., ..., 13.,  8., 13.],\n",
       "       [ 5.,  6.,  3., ..., 20., 14., 10.],\n",
       "       [10.,  7.,  3., ..., 12., 13.,  9.]])"
      ]
     },
     "execution_count": 280,
     "metadata": {},
     "output_type": "execute_result"
    }
   ],
   "source": [
    "mc_bkg"
   ]
  },
  {
   "cell_type": "code",
   "execution_count": 281,
   "id": "b3abd937",
   "metadata": {},
   "outputs": [
    {
     "data": {
      "text/plain": [
       "'\\nqtilde_bkg = pyhf.tensorlib.astensor(\\n    [\\n        pyhf.infer.test_statistics.qmu_tilde(\\n            1.0, mc, model, init_pars, par_bounds, fixed_params\\n        )\\n        for mc in mc_bkg\\n    ]\\n)\\n\\nqtilde_sig = pyhf.tensorlib.astensor(\\n    [\\n        pyhf.infer.test_statistics.qmu_tilde(\\n            1.0, mc, model, init_pars, par_bounds, fixed_params\\n        )\\n        for mc in mc_sig\\n    ]\\n)\\n'"
      ]
     },
     "execution_count": 281,
     "metadata": {},
     "output_type": "execute_result"
    }
   ],
   "source": [
    "init_pars    = model.config.suggested_init()\n",
    "par_bounds   = model.config.suggested_bounds()\n",
    "fixed_params = model.config.suggested_fixed()\n",
    "\n",
    "'''\n",
    "qtilde_bkg = pyhf.tensorlib.astensor(\n",
    "    [\n",
    "        pyhf.infer.test_statistics.qmu_tilde(\n",
    "            1.0, mc, model, init_pars, par_bounds, fixed_params\n",
    "        )\n",
    "        for mc in mc_bkg\n",
    "    ]\n",
    ")\n",
    "\n",
    "qtilde_sig = pyhf.tensorlib.astensor(\n",
    "    [\n",
    "        pyhf.infer.test_statistics.qmu_tilde(\n",
    "            1.0, mc, model, init_pars, par_bounds, fixed_params\n",
    "        )\n",
    "        for mc in mc_sig\n",
    "    ]\n",
    ")\n",
    "'''"
   ]
  },
  {
   "cell_type": "code",
   "execution_count": 282,
   "id": "a41cb821",
   "metadata": {},
   "outputs": [
    {
     "data": {
      "text/plain": [
       "<pyhf.infer.calculators.EmpiricalDistribution at 0x13a92cb80>"
      ]
     },
     "execution_count": 282,
     "metadata": {},
     "output_type": "execute_result"
    }
   ],
   "source": [
    "qtilde_sig"
   ]
  },
  {
   "cell_type": "code",
   "execution_count": 283,
   "id": "7b72b9f7",
   "metadata": {},
   "outputs": [
    {
     "name": "stderr",
     "output_type": "stream",
     "text": [
      "                                                                                              \r"
     ]
    }
   ],
   "source": [
    "toy_calculator_qtilde = pyhf.infer.utils.create_calculator(\n",
    "    \"toybased\",\n",
    "    model.expected_data(pars_sig),\n",
    "    model,\n",
    "    ntoys=n_samples,\n",
    "    test_stat=\"qtilde\",\n",
    ")\n",
    "qtilde_sig, qtilde_bkg = toy_calculator_qtilde.distributions(1.0)\n"
   ]
  },
  {
   "cell_type": "code",
   "execution_count": 317,
   "id": "b40d647f",
   "metadata": {},
   "outputs": [
    {
     "name": "stderr",
     "output_type": "stream",
     "text": [
      "/Users/ema/opt/anaconda3/lib/python3.9/site-packages/numpy/lib/histograms.py:906: RuntimeWarning: invalid value encountered in true_divide\n",
      "  return n/db/n.sum(), bin_edges\n"
     ]
    },
    {
     "data": {
      "text/plain": [
       "<Figure size 1120x480 with 0 Axes>"
      ]
     },
     "metadata": {},
     "output_type": "display_data"
    },
    {
     "data": {
      "image/png": "[encoded data removed]",
      "text/plain": [
       "<Figure size 1008x432 with 1 Axes>"
      ]
     },
     "metadata": {
      "needs_background": "light"
     },
     "output_type": "display_data"
    }
   ],
   "source": [
    "figure(figsize=(14, 6), dpi=80)\n",
    "fig, ax = plt.subplots(nrows=1, ncols=1)\n",
    "#for ax in axes:\n",
    "#ax.set_xticks(np.arange(0, 500))\n",
    "#ax1 = ax.flatten()\n",
    "\n",
    "bins = np.linspace(0, 15, 400)\n",
    "\n",
    "ax.hist(\n",
    "    qtilde_sig.samples,\n",
    "    bins=bins,\n",
    "    histtype=\"step\",\n",
    "    density=True,\n",
    "    label=r\"$f(\\tilde{q}_1|1)$ signal-like\",\n",
    "    linewidth=2,\n",
    ")\n",
    "ax.hist(\n",
    "    qtilde_bkg.samples,\n",
    "    bins=bins,\n",
    "    histtype=\"step\",\n",
    "    density=True,\n",
    "    label=r\"$f(\\tilde{q}_1|0)$ background-like\",\n",
    "    linewidth=2,\n",
    ")\n",
    "ax.axvline(q_obs_1, color='green', linestyle='dotted', linewidth=3, label = \"q_obs_1\")\n",
    "ax.set_xlabel(r\"$\\tilde{q}_1$\", fontsize=18)\n",
    "ax.set_ylabel(r\"$f\\,(\\tilde{q}_1|\\mu')$\", fontsize=18)\n",
    "ax.set_title(r\"Test statistic $(\\tilde{q}_1)$ distributions\")\n",
    "ax.legend()\n",
    "#plt.yscale('log')\n",
    "\n",
    "plt.setp(ax, ylim=(1e-3, 1), )#yscale=\"log\")\n",
    "fig.set_size_inches(14, 6)\n",
    "#fig.tight_layout(pad=2.0)"
   ]
  },
  {
   "cell_type": "markdown",
   "id": "bc598fa1",
   "metadata": {},
   "source": [
    "### Hypothesis testing\n",
    "\n",
    "* Reject Standard Model hypothesis — a discovery fit.\n",
    "* Reject Beyond the Standard Model hypothesis — an exclusion fit."
   ]
  },
  {
   "cell_type": "code",
   "execution_count": 285,
   "id": "581d47f8",
   "metadata": {},
   "outputs": [
    {
     "data": {
      "text/plain": [
       "(array(0.36142386), array(6.53416563e-26))"
      ]
     },
     "execution_count": 285,
     "metadata": {},
     "output_type": "execute_result"
    }
   ],
   "source": [
    "test_mu = 1.0\n",
    "CLs_obs, CLs_exp = pyhf.infer.hypotest(\n",
    " test_mu, data, model, test_stat=\"qtilde\", return_expected=True\n",
    ")\n",
    "CLs_obs, CLs_exp"
   ]
  },
  {
   "cell_type": "markdown",
   "id": "286bb232",
   "metadata": {},
   "source": [
    "### Upper Limit\n",
    "\n",
    "To get upper limits, we just need to run multiple hypothesis tests for a lot of different null hypotheses of BSM with \n",
    "$\\mu = [0,..,1]$ and then find the value of $\\mu$ for which the null hypothesis is rejected (a 95% $CL_s$)"
   ]
  },
  {
   "cell_type": "code",
   "execution_count": 286,
   "id": "18038a34",
   "metadata": {},
   "outputs": [
    {
     "name": "stdout",
     "output_type": "stream",
     "text": [
      "Upper limit (obs): μ = 1.0000\n",
      "Upper limit (exp): μ = 0.1042\n"
     ]
    },
    {
     "data": {
      "text/plain": [
       "[array(0.05066549),\n",
       " array(0.07037276),\n",
       " array(0.10416008),\n",
       " array(0.15288539),\n",
       " array(0.22202917)]"
      ]
     },
     "execution_count": 286,
     "metadata": {},
     "output_type": "execute_result"
    }
   ],
   "source": [
    "poi_values = np.linspace(0.01, 1, 50)\n",
    "obs_limit, exp_limits, (scan, results) = pyhf.infer.intervals.upperlimit(\n",
    "    data, model, poi_values, level=0.05, return_results=True\n",
    ")\n",
    "print(f\"Upper limit (obs): μ = {obs_limit:.4f}\")\n",
    "print(f\"Upper limit (exp): μ = {exp_limits[2]:.4f}\")\n",
    "exp_limits"
   ]
  },
  {
   "cell_type": "markdown",
   "id": "f74f0f48",
   "metadata": {},
   "source": [
    "### Background only hypothesis"
   ]
  },
  {
   "cell_type": "code",
   "execution_count": 287,
   "id": "9c85cb89",
   "metadata": {},
   "outputs": [
    {
     "data": {
      "text/plain": [
       "(array(3.44702162e-43), array(2.40584006e-48))"
      ]
     },
     "execution_count": 287,
     "metadata": {},
     "output_type": "execute_result"
    }
   ],
   "source": [
    "test_mu = 0.0\n",
    "CLs_obs, CLs_exp = pyhf.infer.hypotest(\n",
    " test_mu, data, model, test_stat=\"q0\", return_expected=True\n",
    ")\n",
    "CLs_obs, CLs_exp"
   ]
  },
  {
   "cell_type": "code",
   "execution_count": null,
   "id": "77b1b31f",
   "metadata": {},
   "outputs": [],
   "source": []
  },
  {
   "cell_type": "code",
   "execution_count": 288,
   "id": "ab87ddee",
   "metadata": {},
   "outputs": [
    {
     "data": {
      "text/plain": [
       "'\\nresults = [\\n    pyhf.infer.hypotest(\\n        poi_value,\\n        data,\\n        model,\\n        test_stat=\"q0\",\\n        return_expected_set=True,\\n    )\\n    for poi_value in poi_values\\n]\\n\\n# Calculate upper limit through interpolation\\nobserved = np.asarray([h[0] for h in results]).ravel()\\nexpected = np.asarray([h[1][2] for h in results]).ravel()\\nprint(f\"Upper limit (obs): μ = {np.interp(0.05, observed[::-1], poi_values[::-1]):.4f}\")\\nprint(f\"Upper limit (exp): μ = {np.interp(0.05, expected[::-1], poi_values[::-1]):.4f}\")\\n'"
      ]
     },
     "execution_count": 288,
     "metadata": {},
     "output_type": "execute_result"
    }
   ],
   "source": [
    "# Perform a hypothesis test scan across POIs\n",
    "'''\n",
    "results = [\n",
    "    pyhf.infer.hypotest(\n",
    "        poi_value,\n",
    "        data,\n",
    "        model,\n",
    "        test_stat=\"q0\",\n",
    "        return_expected_set=True,\n",
    "    )\n",
    "    for poi_value in poi_values\n",
    "]\n",
    "\n",
    "# Calculate upper limit through interpolation\n",
    "observed = np.asarray([h[0] for h in results]).ravel()\n",
    "expected = np.asarray([h[1][2] for h in results]).ravel()\n",
    "print(f\"Upper limit (obs): μ = {np.interp(0.05, observed[::-1], poi_values[::-1]):.4f}\")\n",
    "print(f\"Upper limit (exp): μ = {np.interp(0.05, expected[::-1], poi_values[::-1]):.4f}\")\n",
    "'''"
   ]
  }
 ],
 "metadata": {
  "kernelspec": {
   "display_name": "Python 3 (ipykernel)",
   "language": "python",
   "name": "python3"
  },
  "language_info": {
   "codemirror_mode": {
    "name": "ipython",
    "version": 3
   },
   "file_extension": ".py",
   "mimetype": "text/x-python",
   "name": "python",
   "nbconvert_exporter": "python",
   "pygments_lexer": "ipython3",
   "version": "3.9.13"
  }
 },
 "nbformat": 4,
 "nbformat_minor": 5
}
